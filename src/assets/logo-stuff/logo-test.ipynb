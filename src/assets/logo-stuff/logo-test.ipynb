{
 "cells": [
  {
   "cell_type": "code",
   "execution_count": 13,
   "metadata": {},
   "outputs": [],
   "source": [
    "import cv2\n",
    "import numpy as np"
   ]
  },
  {
   "cell_type": "code",
   "execution_count": 46,
   "metadata": {},
   "outputs": [],
   "source": [
    "logo_base = cv2.imread('NN-logo-base2.png')"
   ]
  },
  {
   "cell_type": "code",
   "execution_count": 27,
   "metadata": {},
   "outputs": [],
   "source": [
    "logo_base_data = np.asarray(cv2.cvtColor(logo_base, cv2.COLOR_BGR2GRAY))"
   ]
  },
  {
   "cell_type": "code",
   "execution_count": 28,
   "metadata": {},
   "outputs": [
    {
     "data": {
      "text/plain": [
       "(4032, 3024)"
      ]
     },
     "execution_count": 28,
     "metadata": {},
     "output_type": "execute_result"
    }
   ],
   "source": [
    "logo_base_data.shape"
   ]
  },
  {
   "cell_type": "code",
   "execution_count": 29,
   "metadata": {},
   "outputs": [
    {
     "data": {
      "text/plain": [
       "934"
      ]
     },
     "execution_count": 29,
     "metadata": {},
     "output_type": "execute_result"
    }
   ],
   "source": [
    "first_non_black_row = 0\n",
    "for row in range(logo_base_data.shape[0]):\n",
    "    if np.sum(logo_base_data[row, :]) > 0:\n",
    "        first_non_black_row = row\n",
    "        break\n",
    "first_non_black_row"
   ]
  },
  {
   "cell_type": "code",
   "execution_count": 30,
   "metadata": {},
   "outputs": [
    {
     "data": {
      "text/plain": [
       "3483"
      ]
     },
     "execution_count": 30,
     "metadata": {},
     "output_type": "execute_result"
    }
   ],
   "source": [
    "last_non_black_row = 0\n",
    "for row in range(logo_base_data.shape[0] - 1, 0, -1):\n",
    "    if np.sum(logo_base_data[row, :]) > 0:\n",
    "        last_non_black_row = row\n",
    "        break\n",
    "last_non_black_row"
   ]
  },
  {
   "cell_type": "code",
   "execution_count": 31,
   "metadata": {},
   "outputs": [
    {
     "data": {
      "text/plain": [
       "0"
      ]
     },
     "execution_count": 31,
     "metadata": {},
     "output_type": "execute_result"
    }
   ],
   "source": [
    "first_non_black_col = 0\n",
    "for col in range(logo_base.shape[1]):\n",
    "    if np.sum(logo_base_data[:, col]) > 0:\n",
    "        first_non_black_col = col\n",
    "        break\n",
    "first_non_black_col"
   ]
  },
  {
   "cell_type": "code",
   "execution_count": 32,
   "metadata": {},
   "outputs": [
    {
     "data": {
      "text/plain": [
       "2470"
      ]
     },
     "execution_count": 32,
     "metadata": {},
     "output_type": "execute_result"
    }
   ],
   "source": [
    "last_non_black_col = 0\n",
    "for col in range(logo_base.shape[1] - 1, 0, -1):\n",
    "    if np.sum(logo_base_data[:, col]) > 0:\n",
    "        last_non_black_col = col\n",
    "        break\n",
    "last_non_black_col"
   ]
  },
  {
   "cell_type": "code",
   "execution_count": 33,
   "metadata": {},
   "outputs": [
    {
     "data": {
      "text/plain": [
       "(2146, 1201)"
      ]
     },
     "execution_count": 33,
     "metadata": {},
     "output_type": "execute_result"
    }
   ],
   "source": [
    "brightest_pixel_coords = np.unravel_index(logo_base_data.argmax(), logo_base_data.shape)\n",
    "brightest_pixel_coords"
   ]
  },
  {
   "cell_type": "code",
   "execution_count": 34,
   "metadata": {},
   "outputs": [
    {
     "data": {
      "text/plain": [
       "1201"
      ]
     },
     "execution_count": 34,
     "metadata": {},
     "output_type": "execute_result"
    }
   ],
   "source": [
    "rows_above = brightest_pixel_coords[0] - first_non_black_row\n",
    "rows_below = last_non_black_row - brightest_pixel_coords[0]\n",
    "cols_left = brightest_pixel_coords[1] - first_non_black_col\n",
    "cols_right = last_non_black_col - brightest_pixel_coords[1]\n",
    "offset = min(rows_above, rows_below, cols_left, cols_right)\n",
    "offset"
   ]
  },
  {
   "cell_type": "code",
   "execution_count": 47,
   "metadata": {},
   "outputs": [],
   "source": [
    "# logo_region = logo_base[first_non_black_row:last_non_black_row, first_non_black_col:last_non_black_col, :]\n",
    "logo_region = logo_base[brightest_pixel_coords[0] - offset:brightest_pixel_coords[0] + offset,\n",
    "                        brightest_pixel_coords[1] - offset:brightest_pixel_coords[1] + offset, :]"
   ]
  },
  {
   "cell_type": "code",
   "execution_count": 44,
   "metadata": {},
   "outputs": [
    {
     "data": {
      "text/plain": [
       "(2402, 2402, 3)"
      ]
     },
     "execution_count": 44,
     "metadata": {},
     "output_type": "execute_result"
    }
   ],
   "source": [
    "logo_region.shape"
   ]
  },
  {
   "cell_type": "code",
   "execution_count": 49,
   "metadata": {},
   "outputs": [],
   "source": [
    "for row in range(logo_region.shape[0]):\n",
    "    for col in range(logo_region.shape[1]):\n",
    "        if np.sum(logo_region[row, col, :]) > 0:\n",
    "            logo_region[row, col, :] = [255, 255, 255]"
   ]
  },
  {
   "cell_type": "code",
   "execution_count": 50,
   "metadata": {},
   "outputs": [
    {
     "data": {
      "text/plain": [
       "True"
      ]
     },
     "execution_count": 50,
     "metadata": {},
     "output_type": "execute_result"
    }
   ],
   "source": [
    "cv2.imwrite('NN-logo-region.png', logo_region)"
   ]
  },
  {
   "cell_type": "code",
   "execution_count": 11,
   "metadata": {},
   "outputs": [],
   "source": [
    "final_size = 256\n",
    "logo_final = cv2.resize(logo_region, (final_size, final_size))"
   ]
  },
  {
   "cell_type": "code",
   "execution_count": 12,
   "metadata": {},
   "outputs": [
    {
     "data": {
      "text/plain": [
       "True"
      ]
     },
     "execution_count": 12,
     "metadata": {},
     "output_type": "execute_result"
    }
   ],
   "source": [
    "cv2.imwrite('NN-logo-final.png', logo_final)"
   ]
  }
 ],
 "metadata": {
  "kernelspec": {
   "display_name": "autofit",
   "language": "python",
   "name": "python3"
  },
  "language_info": {
   "codemirror_mode": {
    "name": "ipython",
    "version": 3
   },
   "file_extension": ".py",
   "mimetype": "text/x-python",
   "name": "python",
   "nbconvert_exporter": "python",
   "pygments_lexer": "ipython3",
   "version": "3.10.9"
  },
  "orig_nbformat": 4
 },
 "nbformat": 4,
 "nbformat_minor": 2
}
